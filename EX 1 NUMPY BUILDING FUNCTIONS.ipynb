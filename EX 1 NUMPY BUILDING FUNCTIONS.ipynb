{
 "cells": [
  {
   "cell_type": "raw",
   "id": "96560a5c",
   "metadata": {
    "vscode": {
     "languageId": "raw"
    }
   },
   "source": []
  },
  {
   "cell_type": "code",
   "execution_count": null,
   "id": "aaee4e4b",
   "metadata": {},
   "outputs": [
    {
     "name": "stdout",
     "output_type": "stream",
     "text": [
      "[ 4 74 33 65 22 44 45 29 74]\n"
     ]
    }
   ],
   "source": [
    "#EX 1.B NUMPY BUILDIN FUNCTIONS\n",
    "#REG NO: 230701249\n",
    "#STUDENT NAME: RAGAVI K\n",
    "#DATE:30/07/2024\n",
    "\n",
    "import numpy as np\n",
    "\n",
    "num=np.random.randint(1,100,9)\n",
    "print(num)"
   ]
  },
  {
   "cell_type": "code",
   "execution_count": 69,
   "id": "75298f4e",
   "metadata": {},
   "outputs": [
    {
     "name": "stdout",
     "output_type": "stream",
     "text": [
      "[2.         8.60232527 5.74456265 8.06225775 4.69041576 6.63324958\n",
      " 6.70820393 5.38516481 8.60232527]\n"
     ]
    }
   ],
   "source": [
    "num=np.sqrt(num)\n",
    "print(num)"
   ]
  },
  {
   "cell_type": "code",
   "execution_count": 70,
   "id": "4cee5786",
   "metadata": {},
   "outputs": [
    {
     "name": "stdout",
     "output_type": "stream",
     "text": [
      "[[2.         8.60232527 5.74456265]\n",
      " [8.06225775 4.69041576 6.63324958]\n",
      " [6.70820393 5.38516481 8.60232527]]\n"
     ]
    }
   ],
   "source": [
    "num=num.reshape(3,3)\n",
    "print(num)"
   ]
  },
  {
   "cell_type": "code",
   "execution_count": 71,
   "id": "be326732",
   "metadata": {},
   "outputs": [
    {
     "data": {
      "text/plain": [
       "2"
      ]
     },
     "execution_count": 71,
     "metadata": {},
     "output_type": "execute_result"
    }
   ],
   "source": [
    "num.ndim"
   ]
  },
  {
   "cell_type": "code",
   "execution_count": 72,
   "id": "bc276754",
   "metadata": {},
   "outputs": [
    {
     "name": "stdout",
     "output_type": "stream",
     "text": [
      "[2.         8.60232527 5.74456265 8.06225775 4.69041576 6.63324958\n",
      " 6.70820393 5.38516481 8.60232527]\n"
     ]
    }
   ],
   "source": [
    "num=num.ravel()\n",
    "print(num)"
   ]
  },
  {
   "cell_type": "code",
   "execution_count": 73,
   "id": "e3c7d963",
   "metadata": {},
   "outputs": [
    {
     "data": {
      "text/plain": [
       "1"
      ]
     },
     "execution_count": 73,
     "metadata": {},
     "output_type": "execute_result"
    }
   ],
   "source": [
    "num.ndim"
   ]
  },
  {
   "cell_type": "code",
   "execution_count": 74,
   "id": "a9d95e41",
   "metadata": {},
   "outputs": [
    {
     "name": "stdout",
     "output_type": "stream",
     "text": [
      "[[2.         8.60232527 5.74456265]\n",
      " [8.06225775 4.69041576 6.63324958]\n",
      " [6.70820393 5.38516481 8.60232527]]\n"
     ]
    }
   ],
   "source": [
    "num=num.reshape(3,3)\n",
    "print(num)"
   ]
  },
  {
   "cell_type": "code",
   "execution_count": 75,
   "id": "cbe193ad",
   "metadata": {},
   "outputs": [
    {
     "data": {
      "text/plain": [
       "array([], shape=(0, 0), dtype=float64)"
      ]
     },
     "execution_count": 75,
     "metadata": {},
     "output_type": "execute_result"
    }
   ],
   "source": [
    "num[1:1,1:1]"
   ]
  },
  {
   "cell_type": "code",
   "execution_count": 76,
   "id": "de4f7b5c",
   "metadata": {},
   "outputs": [
    {
     "data": {
      "text/plain": [
       "array([[4.69041576, 6.63324958],\n",
       "       [5.38516481, 8.60232527]])"
      ]
     },
     "execution_count": 76,
     "metadata": {},
     "output_type": "execute_result"
    }
   ],
   "source": [
    "num[1:3,1:3]"
   ]
  }
 ],
 "metadata": {
  "kernelspec": {
   "display_name": "Python 3 (ipykernel)",
   "language": "python",
   "name": "python3"
  },
  "language_info": {
   "codemirror_mode": {
    "name": "ipython",
    "version": 3
   },
   "file_extension": ".py",
   "mimetype": "text/x-python",
   "name": "python",
   "nbconvert_exporter": "python",
   "pygments_lexer": "ipython3",
   "version": "3.12.4"
  }
 },
 "nbformat": 4,
 "nbformat_minor": 5
}
