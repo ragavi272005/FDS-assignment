{
 "cells": [
  {
   "cell_type": "code",
   "execution_count": null,
   "id": "204393a9",
   "metadata": {},
   "outputs": [
    {
     "name": "stdout",
     "output_type": "stream",
     "text": [
      "[ 9 75 97 34 45 99 21 80 91]\n"
     ]
    }
   ],
   "source": [
    "#EX 2 OUTLIERS DETECTION\n",
    "#REG NO: 23070125949\n",
    "#STUDENT NAME: RAGAVI K\n",
    "#DATE:30/07/2024\n",
    "\n",
    "import numpy as np\n",
    "from scipy import stats\n",
    "import seaborn as sns\n",
    "\n",
    "num=np.random.randint(1,100,9)\n",
    "print(num)"
   ]
  },
  {
   "cell_type": "code",
   "execution_count": 89,
   "id": "13cea038",
   "metadata": {},
   "outputs": [
    {
     "data": {
      "text/plain": [
       "61.22222222222222"
      ]
     },
     "execution_count": 89,
     "metadata": {},
     "output_type": "execute_result"
    }
   ],
   "source": [
    "np.mean(num)"
   ]
  },
  {
   "cell_type": "code",
   "execution_count": 90,
   "id": "7b56c045",
   "metadata": {},
   "outputs": [
    {
     "data": {
      "text/plain": [
       "75.0"
      ]
     },
     "execution_count": 90,
     "metadata": {},
     "output_type": "execute_result"
    }
   ],
   "source": [
    "np.median(num)"
   ]
  },
  {
   "cell_type": "code",
   "execution_count": 91,
   "id": "affd8242",
   "metadata": {},
   "outputs": [
    {
     "data": {
      "text/plain": [
       "ModeResult(mode=9, count=1)"
      ]
     },
     "execution_count": 91,
     "metadata": {},
     "output_type": "execute_result"
    }
   ],
   "source": [
    "stats.mode(num)"
   ]
  },
  {
   "cell_type": "code",
   "execution_count": 92,
   "id": "c7d67b45",
   "metadata": {},
   "outputs": [],
   "source": [
    "def out(num):\n",
    "    q1=np.percentile(num,25)\n",
    "    q3=np.percentile(num,75)\n",
    "    iqr=q3-q1\n",
    "    lb=q1-(1.5*iqr)\n",
    "    ub=q3+(1.5*iqr)\n",
    "    return lb,ub"
   ]
  },
  {
   "cell_type": "code",
   "execution_count": 93,
   "id": "512f4836",
   "metadata": {},
   "outputs": [
    {
     "name": "stdout",
     "output_type": "stream",
     "text": [
      "-51.5\n",
      "176.5\n"
     ]
    }
   ],
   "source": [
    "lb,ub=out(num)\n",
    "print(lb)\n",
    "print(ub) #range for the non outliers"
   ]
  },
  {
   "cell_type": "code",
   "execution_count": 96,
   "id": "c7f3c5a8",
   "metadata": {},
   "outputs": [
    {
     "name": "stdout",
     "output_type": "stream",
     "text": [
      "[ 9 75 97 34 45 99 21 80 91]\n"
     ]
    }
   ],
   "source": [
    "new_num=num[(lb<num) & (num<ub)] #return a boolean array which satisfies the condition datas that are within the range\n",
    "#num[(lb<num) & (num<ub)]  this gives the numbers that are true that is numbers thats satisfies the condition only true elemnts are returned\n",
    "print(new_num)"
   ]
  },
  {
   "cell_type": "code",
   "execution_count": 97,
   "id": "76a3f180",
   "metadata": {},
   "outputs": [
    {
     "name": "stdout",
     "output_type": "stream",
     "text": [
      "-51.5\n",
      "176.5\n"
     ]
    }
   ],
   "source": [
    "lb1,lb2=out(new_num)\n",
    "print(lb1)\n",
    "print(lb2)"
   ]
  },
  {
   "cell_type": "code",
   "execution_count": 100,
   "id": "c7cbba19",
   "metadata": {},
   "outputs": [
    {
     "name": "stdout",
     "output_type": "stream",
     "text": [
      "[ 9 75 97 34 45 99 21 80 91]\n"
     ]
    }
   ],
   "source": [
    "final_num=new_num[(lb<num) & (num<ub)] \n",
    "#2 times verification\n",
    "print(final_num)"
   ]
  },
  {
   "cell_type": "code",
   "execution_count": 103,
   "id": "a6ba92bc",
   "metadata": {},
   "outputs": [
    {
     "name": "stdout",
     "output_type": "stream",
     "text": [
      "[ 9 75 97 34 45 99 21 80 91]\n"
     ]
    }
   ],
   "source": [
    "print(final_num)"
   ]
  }
 ],
 "metadata": {
  "kernelspec": {
   "display_name": "Python 3 (ipykernel)",
   "language": "python",
   "name": "python3"
  },
  "language_info": {
   "codemirror_mode": {
    "name": "ipython",
    "version": 3
   },
   "file_extension": ".py",
   "mimetype": "text/x-python",
   "name": "python",
   "nbconvert_exporter": "python",
   "pygments_lexer": "ipython3",
   "version": "3.12.4"
  }
 },
 "nbformat": 4,
 "nbformat_minor": 5
}
